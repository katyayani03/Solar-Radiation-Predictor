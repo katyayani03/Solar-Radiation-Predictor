{
 "cells": [
  {
   "cell_type": "code",
   "execution_count": null,
   "id": "030b4981",
   "metadata": {},
   "outputs": [],
   "source": [
    "import pandas as pd\n",
    "import matplotlib as plt"
   ]
  },
  {
   "cell_type": "code",
   "execution_count": 25,
   "id": "5b2b3fa7",
   "metadata": {},
   "outputs": [
    {
     "name": "stdout",
     "output_type": "stream",
     "text": [
      "Requirement already satisfied: pvlib in c:\\users\\katya\\anaconda3\\lib\\site-packages (0.12.0)\n",
      "Requirement already satisfied: numpy>=1.19.3 in c:\\users\\katya\\anaconda3\\lib\\site-packages (from pvlib) (1.26.4)\n",
      "Requirement already satisfied: pandas>=1.3.0 in c:\\users\\katya\\anaconda3\\lib\\site-packages (from pvlib) (2.2.2)\n",
      "Requirement already satisfied: pytz in c:\\users\\katya\\anaconda3\\lib\\site-packages (from pvlib) (2024.1)\n",
      "Requirement already satisfied: requests in c:\\users\\katya\\anaconda3\\lib\\site-packages (from pvlib) (2.32.3)\n",
      "Requirement already satisfied: scipy>=1.6.0 in c:\\users\\katya\\anaconda3\\lib\\site-packages (from pvlib) (1.13.1)\n",
      "Requirement already satisfied: h5py in c:\\users\\katya\\anaconda3\\lib\\site-packages (from pvlib) (3.11.0)\n",
      "Requirement already satisfied: python-dateutil>=2.8.2 in c:\\users\\katya\\anaconda3\\lib\\site-packages (from pandas>=1.3.0->pvlib) (2.9.0.post0)\n",
      "Requirement already satisfied: tzdata>=2022.7 in c:\\users\\katya\\anaconda3\\lib\\site-packages (from pandas>=1.3.0->pvlib) (2023.3)\n",
      "Requirement already satisfied: charset-normalizer<4,>=2 in c:\\users\\katya\\anaconda3\\lib\\site-packages (from requests->pvlib) (3.3.2)\n",
      "Requirement already satisfied: idna<4,>=2.5 in c:\\users\\katya\\anaconda3\\lib\\site-packages (from requests->pvlib) (3.7)\n",
      "Requirement already satisfied: urllib3<3,>=1.21.1 in c:\\users\\katya\\anaconda3\\lib\\site-packages (from requests->pvlib) (2.2.3)\n",
      "Requirement already satisfied: certifi>=2017.4.17 in c:\\users\\katya\\anaconda3\\lib\\site-packages (from requests->pvlib) (2025.7.14)\n",
      "Requirement already satisfied: six>=1.5 in c:\\users\\katya\\anaconda3\\lib\\site-packages (from python-dateutil>=2.8.2->pandas>=1.3.0->pvlib) (1.16.0)\n"
     ]
    }
   ],
   "source": [
    "!pip install pvlib"
   ]
  },
  {
   "cell_type": "code",
   "execution_count": 26,
   "id": "f856441a",
   "metadata": {},
   "outputs": [
    {
     "name": "stdout",
     "output_type": "stream",
     "text": [
      "Requirement already satisfied: tensorflow in c:\\users\\katya\\anaconda3\\lib\\site-packages (2.19.0)\n",
      "Requirement already satisfied: absl-py>=1.0.0 in c:\\users\\katya\\anaconda3\\lib\\site-packages (from tensorflow) (2.3.0)\n",
      "Requirement already satisfied: astunparse>=1.6.0 in c:\\users\\katya\\anaconda3\\lib\\site-packages (from tensorflow) (1.6.3)\n",
      "Requirement already satisfied: flatbuffers>=24.3.25 in c:\\users\\katya\\anaconda3\\lib\\site-packages (from tensorflow) (25.2.10)\n",
      "Requirement already satisfied: gast!=0.5.0,!=0.5.1,!=0.5.2,>=0.2.1 in c:\\users\\katya\\anaconda3\\lib\\site-packages (from tensorflow) (0.6.0)\n",
      "Requirement already satisfied: google-pasta>=0.1.1 in c:\\users\\katya\\anaconda3\\lib\\site-packages (from tensorflow) (0.2.0)\n",
      "Requirement already satisfied: libclang>=13.0.0 in c:\\users\\katya\\anaconda3\\lib\\site-packages (from tensorflow) (18.1.1)\n",
      "Requirement already satisfied: opt-einsum>=2.3.2 in c:\\users\\katya\\anaconda3\\lib\\site-packages (from tensorflow) (3.4.0)\n",
      "Requirement already satisfied: packaging in c:\\users\\katya\\anaconda3\\lib\\site-packages (from tensorflow) (24.1)\n",
      "Requirement already satisfied: protobuf!=4.21.0,!=4.21.1,!=4.21.2,!=4.21.3,!=4.21.4,!=4.21.5,<6.0.0dev,>=3.20.3 in c:\\users\\katya\\anaconda3\\lib\\site-packages (from tensorflow) (4.25.3)\n",
      "Requirement already satisfied: requests<3,>=2.21.0 in c:\\users\\katya\\anaconda3\\lib\\site-packages (from tensorflow) (2.32.3)\n",
      "Requirement already satisfied: setuptools in c:\\users\\katya\\anaconda3\\lib\\site-packages (from tensorflow) (75.1.0)\n",
      "Requirement already satisfied: six>=1.12.0 in c:\\users\\katya\\anaconda3\\lib\\site-packages (from tensorflow) (1.16.0)\n",
      "Requirement already satisfied: termcolor>=1.1.0 in c:\\users\\katya\\anaconda3\\lib\\site-packages (from tensorflow) (3.1.0)\n",
      "Requirement already satisfied: typing-extensions>=3.6.6 in c:\\users\\katya\\anaconda3\\lib\\site-packages (from tensorflow) (4.11.0)\n",
      "Requirement already satisfied: wrapt>=1.11.0 in c:\\users\\katya\\anaconda3\\lib\\site-packages (from tensorflow) (1.14.1)\n",
      "Requirement already satisfied: grpcio<2.0,>=1.24.3 in c:\\users\\katya\\anaconda3\\lib\\site-packages (from tensorflow) (1.72.1)\n",
      "Requirement already satisfied: tensorboard~=2.19.0 in c:\\users\\katya\\anaconda3\\lib\\site-packages (from tensorflow) (2.19.0)\n",
      "Requirement already satisfied: keras>=3.5.0 in c:\\users\\katya\\anaconda3\\lib\\site-packages (from tensorflow) (3.10.0)\n",
      "Requirement already satisfied: numpy<2.2.0,>=1.26.0 in c:\\users\\katya\\anaconda3\\lib\\site-packages (from tensorflow) (1.26.4)\n",
      "Requirement already satisfied: h5py>=3.11.0 in c:\\users\\katya\\anaconda3\\lib\\site-packages (from tensorflow) (3.11.0)\n",
      "Requirement already satisfied: ml-dtypes<1.0.0,>=0.5.1 in c:\\users\\katya\\anaconda3\\lib\\site-packages (from tensorflow) (0.5.1)\n",
      "Requirement already satisfied: wheel<1.0,>=0.23.0 in c:\\users\\katya\\anaconda3\\lib\\site-packages (from astunparse>=1.6.0->tensorflow) (0.44.0)\n",
      "Requirement already satisfied: rich in c:\\users\\katya\\anaconda3\\lib\\site-packages (from keras>=3.5.0->tensorflow) (13.7.1)\n",
      "Requirement already satisfied: namex in c:\\users\\katya\\anaconda3\\lib\\site-packages (from keras>=3.5.0->tensorflow) (0.1.0)\n",
      "Requirement already satisfied: optree in c:\\users\\katya\\anaconda3\\lib\\site-packages (from keras>=3.5.0->tensorflow) (0.16.0)\n",
      "Requirement already satisfied: charset-normalizer<4,>=2 in c:\\users\\katya\\anaconda3\\lib\\site-packages (from requests<3,>=2.21.0->tensorflow) (3.3.2)\n",
      "Requirement already satisfied: idna<4,>=2.5 in c:\\users\\katya\\anaconda3\\lib\\site-packages (from requests<3,>=2.21.0->tensorflow) (3.7)\n",
      "Requirement already satisfied: urllib3<3,>=1.21.1 in c:\\users\\katya\\anaconda3\\lib\\site-packages (from requests<3,>=2.21.0->tensorflow) (2.2.3)\n",
      "Requirement already satisfied: certifi>=2017.4.17 in c:\\users\\katya\\anaconda3\\lib\\site-packages (from requests<3,>=2.21.0->tensorflow) (2025.7.14)\n",
      "Requirement already satisfied: markdown>=2.6.8 in c:\\users\\katya\\anaconda3\\lib\\site-packages (from tensorboard~=2.19.0->tensorflow) (3.4.1)\n",
      "Requirement already satisfied: tensorboard-data-server<0.8.0,>=0.7.0 in c:\\users\\katya\\anaconda3\\lib\\site-packages (from tensorboard~=2.19.0->tensorflow) (0.7.2)\n",
      "Requirement already satisfied: werkzeug>=1.0.1 in c:\\users\\katya\\anaconda3\\lib\\site-packages (from tensorboard~=2.19.0->tensorflow) (3.0.3)\n",
      "Requirement already satisfied: MarkupSafe>=2.1.1 in c:\\users\\katya\\anaconda3\\lib\\site-packages (from werkzeug>=1.0.1->tensorboard~=2.19.0->tensorflow) (2.1.3)\n",
      "Requirement already satisfied: markdown-it-py>=2.2.0 in c:\\users\\katya\\anaconda3\\lib\\site-packages (from rich->keras>=3.5.0->tensorflow) (2.2.0)\n",
      "Requirement already satisfied: pygments<3.0.0,>=2.13.0 in c:\\users\\katya\\anaconda3\\lib\\site-packages (from rich->keras>=3.5.0->tensorflow) (2.15.1)\n",
      "Requirement already satisfied: mdurl~=0.1 in c:\\users\\katya\\anaconda3\\lib\\site-packages (from markdown-it-py>=2.2.0->rich->keras>=3.5.0->tensorflow) (0.1.0)\n"
     ]
    }
   ],
   "source": [
    "!pip install tensorflow"
   ]
  },
  {
   "cell_type": "code",
   "execution_count": 27,
   "id": "d6d80c1c",
   "metadata": {},
   "outputs": [],
   "source": [
    "df = pd.read_csv(\"cleaned_rad_time_series.csv\", parse_dates=['DATETIME']) # to force pandas to read columns with dates(strings) as the datetime objects instead"
   ]
  },
  {
   "cell_type": "code",
   "execution_count": 28,
   "id": "f248587a",
   "metadata": {},
   "outputs": [
    {
     "name": "stdout",
     "output_type": "stream",
     "text": [
      "<class 'pandas.core.frame.DataFrame'>\n",
      "RangeIndex: 22673 entries, 0 to 22672\n",
      "Data columns (total 11 columns):\n",
      " #   Column          Non-Null Count  Dtype         \n",
      "---  ------          --------------  -----         \n",
      " 0   DATETIME        22673 non-null  datetime64[ns]\n",
      " 1   DIFFUSE MJ/m^2  22673 non-null  float64       \n",
      " 2   GLOBAL MJ/m^2   22673 non-null  float64       \n",
      " 3   YEAR            22673 non-null  int64         \n",
      " 4   HOUR_SIN        22673 non-null  float64       \n",
      " 5   HOUR_COS        22673 non-null  float64       \n",
      " 6   MONTH_SIN       22673 non-null  float64       \n",
      " 7   MONTH_COS       22673 non-null  float64       \n",
      " 8   DIRECT MJ/m^2   22673 non-null  float64       \n",
      " 9   LATITUDE        22673 non-null  float64       \n",
      " 10  LONGITUDE       22673 non-null  float64       \n",
      "dtypes: datetime64[ns](1), float64(9), int64(1)\n",
      "memory usage: 1.9 MB\n"
     ]
    }
   ],
   "source": [
    "df.info()"
   ]
  },
  {
   "cell_type": "markdown",
   "id": "f659b105",
   "metadata": {},
   "source": [
    "FEATURE ENGINEERING"
   ]
  },
  {
   "cell_type": "code",
   "execution_count": 29,
   "id": "af1e1e8e",
   "metadata": {},
   "outputs": [],
   "source": [
    "from pvlib import solarposition, irradiance\n",
    "\n",
    "df['DATETIME'] = df['DATETIME'].dt.tz_localize('Asia/Kolkata')\n",
    "def calculate_solar_features(row):\n",
    "    solpos = solarposition.get_solarposition(\n",
    "        time=row['DATETIME'],  # Timezone-aware\n",
    "        latitude=row['LATITUDE'],  # Station latitude column\n",
    "        longitude=row['LONGITUDE'],# Station longitude column\n",
    "        #method='ephemeris'\n",
    "    )\n",
    "    return solpos['apparent_zenith'].iloc[0]\n",
    "df['ZENITH'] = df.apply(calculate_solar_features, axis=1)\n",
    "#df = df.groupby('STATION', group_keys=False)[['STATION', 'DATETIME', 'DIFFUSE MJ/m^2', 'GLOBAL MJ/m^2', 'LATITUDE', 'LONGITUDE']].apply(calculate_solar_features)"
   ]
  },
  {
   "cell_type": "code",
   "execution_count": 30,
   "id": "33debe78",
   "metadata": {},
   "outputs": [
    {
     "data": {
      "text/html": [
       "<div>\n",
       "<style scoped>\n",
       "    .dataframe tbody tr th:only-of-type {\n",
       "        vertical-align: middle;\n",
       "    }\n",
       "\n",
       "    .dataframe tbody tr th {\n",
       "        vertical-align: top;\n",
       "    }\n",
       "\n",
       "    .dataframe thead th {\n",
       "        text-align: right;\n",
       "    }\n",
       "</style>\n",
       "<table border=\"1\" class=\"dataframe\">\n",
       "  <thead>\n",
       "    <tr style=\"text-align: right;\">\n",
       "      <th></th>\n",
       "      <th>DATETIME</th>\n",
       "      <th>DIFFUSE MJ/m^2</th>\n",
       "      <th>GLOBAL MJ/m^2</th>\n",
       "      <th>YEAR</th>\n",
       "      <th>HOUR_SIN</th>\n",
       "      <th>HOUR_COS</th>\n",
       "      <th>MONTH_SIN</th>\n",
       "      <th>MONTH_COS</th>\n",
       "      <th>DIRECT MJ/m^2</th>\n",
       "      <th>LATITUDE</th>\n",
       "      <th>LONGITUDE</th>\n",
       "      <th>ZENITH</th>\n",
       "    </tr>\n",
       "  </thead>\n",
       "  <tbody>\n",
       "    <tr>\n",
       "      <th>0</th>\n",
       "      <td>1993-01-15 05:00:00+05:30</td>\n",
       "      <td>0.00</td>\n",
       "      <td>0.00</td>\n",
       "      <td>1993</td>\n",
       "      <td>0.965926</td>\n",
       "      <td>2.588190e-01</td>\n",
       "      <td>0.0</td>\n",
       "      <td>1.0</td>\n",
       "      <td>0.00</td>\n",
       "      <td>23.0225</td>\n",
       "      <td>72.5714</td>\n",
       "      <td>122.293354</td>\n",
       "    </tr>\n",
       "    <tr>\n",
       "      <th>1</th>\n",
       "      <td>1993-01-15 06:00:00+05:30</td>\n",
       "      <td>0.00</td>\n",
       "      <td>0.00</td>\n",
       "      <td>1993</td>\n",
       "      <td>1.000000</td>\n",
       "      <td>6.123234e-17</td>\n",
       "      <td>0.0</td>\n",
       "      <td>1.0</td>\n",
       "      <td>0.00</td>\n",
       "      <td>23.0225</td>\n",
       "      <td>72.5714</td>\n",
       "      <td>108.868990</td>\n",
       "    </tr>\n",
       "    <tr>\n",
       "      <th>2</th>\n",
       "      <td>1993-01-15 07:00:00+05:30</td>\n",
       "      <td>0.02</td>\n",
       "      <td>0.02</td>\n",
       "      <td>1993</td>\n",
       "      <td>0.965926</td>\n",
       "      <td>-2.588190e-01</td>\n",
       "      <td>0.0</td>\n",
       "      <td>1.0</td>\n",
       "      <td>0.00</td>\n",
       "      <td>23.0225</td>\n",
       "      <td>72.5714</td>\n",
       "      <td>95.745966</td>\n",
       "    </tr>\n",
       "    <tr>\n",
       "      <th>3</th>\n",
       "      <td>1993-01-15 08:00:00+05:30</td>\n",
       "      <td>0.22</td>\n",
       "      <td>0.44</td>\n",
       "      <td>1993</td>\n",
       "      <td>0.866025</td>\n",
       "      <td>-5.000000e-01</td>\n",
       "      <td>0.0</td>\n",
       "      <td>1.0</td>\n",
       "      <td>0.22</td>\n",
       "      <td>23.0225</td>\n",
       "      <td>72.5714</td>\n",
       "      <td>82.960584</td>\n",
       "    </tr>\n",
       "    <tr>\n",
       "      <th>4</th>\n",
       "      <td>1993-01-15 09:00:00+05:30</td>\n",
       "      <td>0.40</td>\n",
       "      <td>1.18</td>\n",
       "      <td>1993</td>\n",
       "      <td>0.707107</td>\n",
       "      <td>-7.071068e-01</td>\n",
       "      <td>0.0</td>\n",
       "      <td>1.0</td>\n",
       "      <td>0.78</td>\n",
       "      <td>23.0225</td>\n",
       "      <td>72.5714</td>\n",
       "      <td>71.098836</td>\n",
       "    </tr>\n",
       "  </tbody>\n",
       "</table>\n",
       "</div>"
      ],
      "text/plain": [
       "                   DATETIME  DIFFUSE MJ/m^2  GLOBAL MJ/m^2  YEAR  HOUR_SIN  \\\n",
       "0 1993-01-15 05:00:00+05:30            0.00           0.00  1993  0.965926   \n",
       "1 1993-01-15 06:00:00+05:30            0.00           0.00  1993  1.000000   \n",
       "2 1993-01-15 07:00:00+05:30            0.02           0.02  1993  0.965926   \n",
       "3 1993-01-15 08:00:00+05:30            0.22           0.44  1993  0.866025   \n",
       "4 1993-01-15 09:00:00+05:30            0.40           1.18  1993  0.707107   \n",
       "\n",
       "       HOUR_COS  MONTH_SIN  MONTH_COS  DIRECT MJ/m^2  LATITUDE  LONGITUDE  \\\n",
       "0  2.588190e-01        0.0        1.0           0.00   23.0225    72.5714   \n",
       "1  6.123234e-17        0.0        1.0           0.00   23.0225    72.5714   \n",
       "2 -2.588190e-01        0.0        1.0           0.00   23.0225    72.5714   \n",
       "3 -5.000000e-01        0.0        1.0           0.22   23.0225    72.5714   \n",
       "4 -7.071068e-01        0.0        1.0           0.78   23.0225    72.5714   \n",
       "\n",
       "       ZENITH  \n",
       "0  122.293354  \n",
       "1  108.868990  \n",
       "2   95.745966  \n",
       "3   82.960584  \n",
       "4   71.098836  "
      ]
     },
     "execution_count": 30,
     "metadata": {},
     "output_type": "execute_result"
    }
   ],
   "source": [
    "df.head()"
   ]
  },
  {
   "cell_type": "code",
   "execution_count": 31,
   "id": "192ef00a",
   "metadata": {},
   "outputs": [
    {
     "name": "stdout",
     "output_type": "stream",
     "text": [
      "<class 'pandas.core.frame.DataFrame'>\n",
      "RangeIndex: 22673 entries, 0 to 22672\n",
      "Data columns (total 12 columns):\n",
      " #   Column          Non-Null Count  Dtype                       \n",
      "---  ------          --------------  -----                       \n",
      " 0   DATETIME        22673 non-null  datetime64[ns, Asia/Kolkata]\n",
      " 1   DIFFUSE MJ/m^2  22673 non-null  float64                     \n",
      " 2   GLOBAL MJ/m^2   22673 non-null  float64                     \n",
      " 3   YEAR            22673 non-null  int64                       \n",
      " 4   HOUR_SIN        22673 non-null  float64                     \n",
      " 5   HOUR_COS        22673 non-null  float64                     \n",
      " 6   MONTH_SIN       22673 non-null  float64                     \n",
      " 7   MONTH_COS       22673 non-null  float64                     \n",
      " 8   DIRECT MJ/m^2   22673 non-null  float64                     \n",
      " 9   LATITUDE        22673 non-null  float64                     \n",
      " 10  LONGITUDE       22673 non-null  float64                     \n",
      " 11  ZENITH          22673 non-null  float64                     \n",
      "dtypes: datetime64[ns, Asia/Kolkata](1), float64(10), int64(1)\n",
      "memory usage: 2.1 MB\n"
     ]
    }
   ],
   "source": [
    "df.info()"
   ]
  }
 ],
 "metadata": {
  "kernelspec": {
   "display_name": "base",
   "language": "python",
   "name": "python3"
  },
  "language_info": {
   "codemirror_mode": {
    "name": "ipython",
    "version": 3
   },
   "file_extension": ".py",
   "mimetype": "text/x-python",
   "name": "python",
   "nbconvert_exporter": "python",
   "pygments_lexer": "ipython3",
   "version": "3.12.7"
  }
 },
 "nbformat": 4,
 "nbformat_minor": 5
}
